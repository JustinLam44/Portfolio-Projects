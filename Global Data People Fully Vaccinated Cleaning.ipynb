{
 "cells": [
  {
   "cell_type": "code",
   "execution_count": null,
   "id": "c2dec6c7",
   "metadata": {},
   "outputs": [],
   "source": [
    "# Import necessary packages\n",
    "\n",
    "import math\n",
    "import numpy as np\n",
    "import pandas as pd\n",
    "\n",
    "pd.options.display.max_rows = 999\n",
    "pd.options.display.min_rows = 999\n",
    "\n",
    "df = pd.read_csv(r'C:\\Users\\justi\\Downloads\\SQL testing\\Global Data People Fully Vaccinated.csv')\n",
    "print(df)"
   ]
  },
  {
   "cell_type": "code",
   "execution_count": null,
   "id": "d44c9e0e",
   "metadata": {},
   "outputs": [],
   "source": [
    "#Checking data types \n",
    "df.dtypes"
   ]
  },
  {
   "cell_type": "code",
   "execution_count": null,
   "id": "c185cfe0",
   "metadata": {},
   "outputs": [],
   "source": [
    "#Replacing NaN values with 0\n",
    "\n",
    "df['people_fully_vaccinated'].fillna(0, inplace = True)\n",
    "\n",
    "#Changing datatypes from float to int\n",
    "df['people_fully_vaccinated'] = df['people_fully_vaccinated'].astype('int64')\n",
    "df['population'] = df['population'].astype('int64')"
   ]
  },
  {
   "cell_type": "code",
   "execution_count": null,
   "id": "5cd298ac",
   "metadata": {},
   "outputs": [],
   "source": [
    "#Creating a boolean value to check when the 'location' changes from line to line\n",
    "df['locationcomparison'] = df['location'].shift(1) == df['location']\n",
    "\n",
    "#Creating a loop to fill in 'people_fully_vaccinated' data gaps by taking prior reported numbers in 'people_fully_vaccinated'\n",
    "for x in df.index:\n",
    "    if df.loc[x,'people_fully_vaccinated'] == 0 and df.loc[x,'locationcomparison'] and df.loc[x-1,'people_fully_vaccinated'] > df.loc[x,'people_fully_vaccinated']:\n",
    "        df.loc[x,'people_fully_vaccinated'] = df.loc[x-1,'people_fully_vaccinated']\n",
    "    else:\n",
    "        continue\n",
    "\n",
    "#Checking to validate expected outcome from above loop\n",
    "df2 = df[['location','locationcomparison','date','people_fully_vaccinated',]]\n",
    "print(df2[500:1500])"
   ]
  },
  {
   "cell_type": "code",
   "execution_count": null,
   "id": "e3b44be0",
   "metadata": {},
   "outputs": [],
   "source": [
    "#Creating a loop to fill in '% of population fully vaccinated' data gaps by taking prior reported numbers in '% of population fully vaccinated'\n",
    "for x in df.index:\n",
    "    if df.loc[x,'% of population fully vaccinated'] == 0 and df.loc[x,'locationcomparison'] and df.loc[x-1,'% of population fully vaccinated'] > df.loc[x,'% of population fully vaccinated']:\n",
    "        df.loc[x,'% of population fully vaccinated'] = df.loc[x-1,'% of population fully vaccinated']\n",
    "        #df.loc[df['people_fully_vaccinated'].shift(1) > df['people_fully_vaccinated'], 'people_fully_vaccinated'] = df['people_fully_vaccinated'].shift(1)\n",
    "    else:\n",
    "        continue\n",
    "\n",
    "#Checking to validate expected outcome from above loop    \n",
    "df2 = df[['location','date','people_fully_vaccinated','% of population fully vaccinated',]]\n",
    "print(df2[500:1500])"
   ]
  },
  {
   "cell_type": "code",
   "execution_count": null,
   "id": "4c5d2a8f",
   "metadata": {},
   "outputs": [],
   "source": [
    "#Drop columns no longer needed\n",
    "df = df.drop(columns='locationcomparison')\n"
   ]
  },
  {
   "cell_type": "code",
   "execution_count": null,
   "id": "e20ece75",
   "metadata": {},
   "outputs": [],
   "source": [
    "#Export dataframe to csv\n",
    "df.to_csv(r'C:\\Users\\justi\\Downloads\\SQL testing\\Global Data People Fully Vaccinated - Cleaned with Python.csv', encoding='utf-8', index=False)"
   ]
  }
 ],
 "metadata": {
  "kernelspec": {
   "display_name": "Python 3 (ipykernel)",
   "language": "python",
   "name": "python3"
  },
  "language_info": {
   "codemirror_mode": {
    "name": "ipython",
    "version": 3
   },
   "file_extension": ".py",
   "mimetype": "text/x-python",
   "name": "python",
   "nbconvert_exporter": "python",
   "pygments_lexer": "ipython3",
   "version": "3.9.7"
  }
 },
 "nbformat": 4,
 "nbformat_minor": 5
}
